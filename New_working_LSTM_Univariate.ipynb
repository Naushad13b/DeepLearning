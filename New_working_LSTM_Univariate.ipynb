{
 "cells": [
  {
   "cell_type": "code",
   "execution_count": 137,
   "id": "757d34f3",
   "metadata": {},
   "outputs": [],
   "source": [
    "#for Standardization mean =0\n",
    "#for Standardization standard deviation =1\n",
    "#both properties holds for Data set"
   ]
  },
  {
   "cell_type": "code",
   "execution_count": 138,
   "id": "c89d4429",
   "metadata": {},
   "outputs": [],
   "source": [
    "import pandas as pd\n",
    "import numpy as np\n",
    "import matplotlib.pyplot as plt\n",
    "import warnings\n",
    "warnings.filterwarnings(\"ignore\")"
   ]
  },
  {
   "cell_type": "code",
   "execution_count": 139,
   "id": "0b976831",
   "metadata": {},
   "outputs": [
    {
     "data": {
      "text/html": [
       "<div>\n",
       "<style scoped>\n",
       "    .dataframe tbody tr th:only-of-type {\n",
       "        vertical-align: middle;\n",
       "    }\n",
       "\n",
       "    .dataframe tbody tr th {\n",
       "        vertical-align: top;\n",
       "    }\n",
       "\n",
       "    .dataframe thead th {\n",
       "        text-align: right;\n",
       "    }\n",
       "</style>\n",
       "<table border=\"1\" class=\"dataframe\">\n",
       "  <thead>\n",
       "    <tr style=\"text-align: right;\">\n",
       "      <th></th>\n",
       "      <th>PM2.5</th>\n",
       "    </tr>\n",
       "    <tr>\n",
       "      <th>Date</th>\n",
       "      <th></th>\n",
       "    </tr>\n",
       "  </thead>\n",
       "  <tbody>\n",
       "    <tr>\n",
       "      <th>2021-01-01</th>\n",
       "      <td>228.53</td>\n",
       "    </tr>\n",
       "    <tr>\n",
       "      <th>2021-02-01</th>\n",
       "      <td>222.37</td>\n",
       "    </tr>\n",
       "    <tr>\n",
       "      <th>2021-03-01</th>\n",
       "      <td>128.14</td>\n",
       "    </tr>\n",
       "    <tr>\n",
       "      <th>2021-04-01</th>\n",
       "      <td>68.44</td>\n",
       "    </tr>\n",
       "    <tr>\n",
       "      <th>2021-05-01</th>\n",
       "      <td>62.51</td>\n",
       "    </tr>\n",
       "  </tbody>\n",
       "</table>\n",
       "</div>"
      ],
      "text/plain": [
       "             PM2.5\n",
       "Date              \n",
       "2021-01-01  228.53\n",
       "2021-02-01  222.37\n",
       "2021-03-01  128.14\n",
       "2021-04-01   68.44\n",
       "2021-05-01   62.51"
      ]
     },
     "execution_count": 139,
     "metadata": {},
     "output_type": "execute_result"
    }
   ],
   "source": [
    "# Import data using datetime and set index to datetime\n",
    "df = pd.read_csv(r'C:\\Users\\91783\\Desktop\\DataSet\\1_Bhiwadi\\Book_1_PM.csv',\n",
    "                                parse_dates=['Date'],\n",
    "                                index_col=['Date'])\n",
    "\n",
    "df.head()"
   ]
  },
  {
   "cell_type": "code",
   "execution_count": 140,
   "id": "f8e6be5c",
   "metadata": {},
   "outputs": [
    {
     "name": "stdout",
     "output_type": "stream",
     "text": [
      "<class 'pandas.core.frame.DataFrame'>\n",
      "DatetimeIndex: 365 entries, 2021-01-01 to 2021-12-31\n",
      "Data columns (total 1 columns):\n",
      " #   Column  Non-Null Count  Dtype  \n",
      "---  ------  --------------  -----  \n",
      " 0   PM2.5   365 non-null    float64\n",
      "dtypes: float64(1)\n",
      "memory usage: 5.7 KB\n"
     ]
    }
   ],
   "source": [
    "df.info()"
   ]
  },
  {
   "cell_type": "code",
   "execution_count": 141,
   "id": "444bf72e",
   "metadata": {},
   "outputs": [
    {
     "data": {
      "text/plain": [
       "<AxesSubplot:>"
      ]
     },
     "execution_count": 141,
     "metadata": {},
     "output_type": "execute_result"
    },
    {
     "data": {
      "image/png": "[encoded data removed]",
      "text/plain": [
       "<Figure size 432x288 with 1 Axes>"
      ]
     },
     "metadata": {
      "needs_background": "light"
     },
     "output_type": "display_data"
    }
   ],
   "source": [
    "#Box plot\n",
    "#pd.options.display.mpl_style = False\n",
    "df.boxplot()"
   ]
  },
  {
   "cell_type": "code",
   "execution_count": 142,
   "id": "204fa60f",
   "metadata": {},
   "outputs": [],
   "source": [
    "from sklearn.preprocessing import StandardScaler\n",
    "import numpy as np"
   ]
  },
  {
   "cell_type": "code",
   "execution_count": 143,
   "id": "a46cd499",
   "metadata": {},
   "outputs": [],
   "source": [
    "# the scaler object (model)\n",
    "scaler = StandardScaler()"
   ]
  },
  {
   "cell_type": "code",
   "execution_count": 144,
   "id": "fcb97ddf",
   "metadata": {},
   "outputs": [],
   "source": [
    "# fit and transform the data\n",
    "scaled_data = scaler.fit_transform(df)"
   ]
  },
  {
   "cell_type": "code",
   "execution_count": 145,
   "id": "889e0fd7",
   "metadata": {},
   "outputs": [
    {
     "name": "stdout",
     "output_type": "stream",
     "text": [
      "             PM2.5\n",
      "Date              \n",
      "2021-01-01  228.53\n",
      "2021-02-01  222.37\n",
      "2021-03-01  128.14\n",
      "2021-04-01   68.44\n",
      "2021-05-01   62.51\n",
      "...            ...\n",
      "2021-12-27   92.11\n",
      "2021-12-28  124.25\n",
      "2021-12-29  105.15\n",
      "2021-12-30  161.22\n",
      "2021-12-31  156.41\n",
      "\n",
      "[365 rows x 1 columns]\n"
     ]
    }
   ],
   "source": [
    "print(df)"
   ]
  },
  {
   "cell_type": "code",
   "execution_count": 146,
   "id": "cd22c475",
   "metadata": {},
   "outputs": [
    {
     "name": "stdout",
     "output_type": "stream",
     "text": [
      "(365, 1)\n"
     ]
    }
   ],
   "source": [
    "print(scaled_data.shape)\n",
    "#print('X' ,X.shape)"
   ]
  },
  {
   "cell_type": "code",
   "execution_count": 147,
   "id": "9dd03347",
   "metadata": {},
   "outputs": [
    {
     "name": "stdout",
     "output_type": "stream",
     "text": [
      "[[ 2.01127500e+00]\n",
      " [ 1.90598451e+00]\n",
      " [ 2.95347690e-01]\n",
      " [-7.25081241e-01]\n",
      " [-8.26440429e-01]\n",
      " [ 2.07320738e-01]\n",
      " [ 1.41685109e-01]\n",
      " [ 1.82023673e-01]\n",
      " [ 7.84367316e-01]\n",
      " [ 1.45103631e-01]\n",
      " [-3.54513415e-01]\n",
      " [ 2.83553788e-01]\n",
      " [ 1.35782445e+00]\n",
      " [ 1.66685887e+00]\n",
      " [ 1.73283635e+00]\n",
      " [ 1.27612176e+00]\n",
      " [ 7.26081510e-01]\n",
      " [ 9.42132124e-01]\n",
      " [ 1.28740288e+00]\n",
      " [-3.63059721e-01]\n",
      " [ 2.31592247e-01]\n",
      " [ 7.97699554e-01]\n",
      " [-8.03479198e-02]\n",
      " [ 1.21629762e+00]\n",
      " [ 9.24697660e-01]\n",
      " [ 3.87476868e-01]\n",
      " [ 4.83537347e-01]\n",
      " [ 1.37081483e+00]\n",
      " [ 6.39080115e-01]\n",
      " [ 2.83211935e-01]\n",
      " [ 2.31421321e-01]\n",
      " [ 9.87256619e-01]\n",
      " [ 1.25116655e+00]\n",
      " [-1.00688128e-01]\n",
      " [-3.91433456e-01]\n",
      " [ 1.45616410e-01]\n",
      " [-2.15493348e-02]\n",
      " [-1.49402072e-01]\n",
      " [ 3.42181446e-01]\n",
      " [ 2.74323777e-01]\n",
      " [ 6.04952023e-02]\n",
      " [ 1.02195462e+00]\n",
      " [ 9.10510792e-01]\n",
      " [ 1.46841364e+00]\n",
      " [ 8.92050771e-01]\n",
      " [ 7.33944111e-01]\n",
      " [ 4.23713205e-01]\n",
      " [ 1.08519729e+00]\n",
      " [ 1.67096110e+00]\n",
      " [ 1.07425801e+00]\n",
      " [ 1.96438598e-02]\n",
      " [ 2.40879389e-02]\n",
      " [-1.90766193e-01]\n",
      " [ 8.32283761e-02]\n",
      " [ 2.51419677e-01]\n",
      " [-1.84726647e-02]\n",
      " [-3.92459013e-01]\n",
      " [-3.14630497e-02]\n",
      " [ 3.49360343e-01]\n",
      " [ 5.11398304e-01]\n",
      " [-2.37087171e-01]\n",
      " [-1.79314143e-01]\n",
      " [ 8.32910334e-01]\n",
      " [ 1.24945729e+00]\n",
      " [-2.90245194e-01]\n",
      " [ 1.14394061e-02]\n",
      " [ 2.66518307e-02]\n",
      " [ 1.55701051e-01]\n",
      " [-4.38950917e-01]\n",
      " [ 8.05391229e-01]\n",
      " [-7.29354394e-01]\n",
      " [-4.12058385e-02]\n",
      " [ 5.74811894e-01]\n",
      " [ 4.18927274e-01]\n",
      " [ 7.33260407e-01]\n",
      " [ 1.68873741e+00]\n",
      " [ 1.41576840e+00]\n",
      " [ 8.22141989e-01]\n",
      " [ 4.71572518e-01]\n",
      " [ 9.76317348e-01]\n",
      " [-1.53675225e-01]\n",
      " [-3.73315288e-01]\n",
      " [-5.33302135e-01]\n",
      " [ 3.19961051e-01]\n",
      " [ 5.28606584e-03]\n",
      " [ 8.23680324e-01]\n",
      " [ 2.42873371e-01]\n",
      " [-4.37697303e-02]\n",
      " [ 9.34953227e-01]\n",
      " [ 4.72427149e-01]\n",
      " [ 2.71759885e-01]\n",
      " [ 4.73338911e-02]\n",
      " [ 1.34534684e+00]\n",
      " [ 1.44568047e+00]\n",
      " [ 4.31404881e-01]\n",
      " [ 6.91554434e-01]\n",
      " [ 6.11390084e-01]\n",
      " [ 4.44053413e-01]\n",
      " [ 5.79255973e-01]\n",
      " [ 9.83667171e-01]\n",
      " [ 5.66778367e-01]\n",
      " [ 1.31953699e+00]\n",
      " [ 8.63677035e-01]\n",
      " [ 7.39413747e-01]\n",
      " [ 2.81673600e-01]\n",
      " [ 6.17372498e-01]\n",
      " [-3.61863238e-01]\n",
      " [ 1.42722045e+00]\n",
      " [ 1.00947701e+00]\n",
      " [ 1.03460315e+00]\n",
      " [-5.72615142e-01]\n",
      " [ 1.40830478e-01]\n",
      " [-7.08672333e-01]\n",
      " [ 7.93597327e-01]\n",
      " [ 5.28832768e-01]\n",
      " [ 1.76383111e-01]\n",
      " [ 7.73598971e-01]\n",
      " [ 6.28653622e-01]\n",
      " [ 9.45721573e-01]\n",
      " [ 1.72446097e+00]\n",
      " [-5.94949333e-02]\n",
      " [-2.53154226e-01]\n",
      " [ 1.73352006e+00]\n",
      " [-3.47505444e-01]\n",
      " [ 3.27481800e-01]\n",
      " [-5.97057578e-01]\n",
      " [-3.73998992e-01]\n",
      " [-2.42214954e-01]\n",
      " [-6.97049357e-01]\n",
      " [-6.11757224e-01]\n",
      " [-8.37721553e-01]\n",
      " [-9.81983197e-01]\n",
      " [-7.69692958e-01]\n",
      " [-8.34815809e-01]\n",
      " [-8.36695996e-01]\n",
      " [-6.95169170e-01]\n",
      " [-3.27678014e-01]\n",
      " [-1.24401294e+00]\n",
      " [-1.28725725e+00]\n",
      " [-4.03056432e-01]\n",
      " [-6.89528608e-01]\n",
      " [-5.88853124e-01]\n",
      " [ 2.72437877e+00]\n",
      " [ 2.28002799e-01]\n",
      " [ 1.33309729e-01]\n",
      " [ 4.87126795e-01]\n",
      " [-4.78434851e-01]\n",
      " [-1.10505000e+00]\n",
      " [-8.23363759e-01]\n",
      " [-1.22845866e+00]\n",
      " [-2.50077556e-01]\n",
      " [-7.24226610e-01]\n",
      " [-6.28849836e-01]\n",
      " [-1.90595267e-01]\n",
      " [-3.54000636e-01]\n",
      " [-6.67137286e-01]\n",
      " [-6.84571750e-01]\n",
      " [-2.01363612e-01]\n",
      " [-5.69310415e-02]\n",
      " [ 7.39983657e-02]\n",
      " [-1.70596911e-01]\n",
      " [ 7.36678929e-01]\n",
      " [-5.92271646e-01]\n",
      " [-7.47301636e-01]\n",
      " [-3.90749752e-01]\n",
      " [-6.11073519e-01]\n",
      " [-9.94460804e-01]\n",
      " [-8.41481928e-01]\n",
      " [-1.04659327e+00]\n",
      " [-8.96007360e-01]\n",
      " [-9.65061512e-01]\n",
      " [-8.13791896e-01]\n",
      " [ 1.52569122e-03]\n",
      " [ 1.91982952e+00]\n",
      " [-2.35719762e-01]\n",
      " [-3.56906380e-01]\n",
      " [-4.13482926e-01]\n",
      " [-3.07793453e-02]\n",
      " [ 3.13807711e-01]\n",
      " [ 8.02485485e-01]\n",
      " [ 4.34481551e-01]\n",
      " [-5.06124882e-01]\n",
      " [-4.85613748e-01]\n",
      " [-4.14508482e-01]\n",
      " [-5.08005070e-01]\n",
      " [-8.50199160e-01]\n",
      " [-7.43199409e-01]\n",
      " [-4.54676120e-01]\n",
      " [-3.85621968e-01]\n",
      " [-8.91221428e-01]\n",
      " [-9.43695747e-01]\n",
      " [-9.53438536e-01]\n",
      " [-1.16709618e+00]\n",
      " [-1.08676091e+00]\n",
      " [-8.28149690e-01]\n",
      " [-7.48498119e-01]\n",
      " [-1.10094778e+00]\n",
      " [-1.03018436e+00]\n",
      " [-1.36861808e+00]\n",
      " [-1.48382228e+00]\n",
      " [-1.42365629e+00]\n",
      " [-1.06932644e+00]\n",
      " [-7.96357432e-01]\n",
      " [-1.35015806e+00]\n",
      " [-1.06966830e+00]\n",
      " [-1.25529406e+00]\n",
      " [-1.12453558e+00]\n",
      " [-1.11051964e+00]\n",
      " [-1.15940451e+00]\n",
      " [-1.22504014e+00]\n",
      " [-1.12282632e+00]\n",
      " [-1.43698853e+00]\n",
      " [-1.17342045e+00]\n",
      " [-4.28011646e-01]\n",
      " [-2.06149543e-01]\n",
      " [-1.17871916e+00]\n",
      " [-5.14842114e-01]\n",
      " [-3.16738742e-01]\n",
      " [-7.10381594e-01]\n",
      " [-1.04334567e+00]\n",
      " [-9.83008754e-01]\n",
      " [-1.12299725e+00]\n",
      " [-1.26794259e+00]\n",
      " [-1.08778647e+00]\n",
      " [-1.11103242e+00]\n",
      " [-1.15615691e+00]\n",
      " [-1.17085656e+00]\n",
      " [-7.42857557e-01]\n",
      " [-5.01680803e-01]\n",
      " [-1.79314143e-01]\n",
      " [-2.24438638e-01]\n",
      " [-1.10556278e+00]\n",
      " [-2.58111084e-01]\n",
      " [-1.42399814e+00]\n",
      " [-1.36793437e+00]\n",
      " [-9.41815560e-01]\n",
      " [-1.14897802e+00]\n",
      " [-1.25990907e+00]\n",
      " [-9.11561636e-01]\n",
      " [-7.74649815e-01]\n",
      " [-1.03873067e+00]\n",
      " [-1.43100611e+00]\n",
      " [-1.40399979e+00]\n",
      " [-1.23768867e+00]\n",
      " [-1.21871587e+00]\n",
      " [-1.24418386e+00]\n",
      " [-1.36280659e+00]\n",
      " [-1.46108911e+00]\n",
      " [-1.18829102e+00]\n",
      " [-1.25187554e+00]\n",
      " [-1.39784645e+00]\n",
      " [-1.38400143e+00]\n",
      " [-1.14897802e+00]\n",
      " [-1.09052128e+00]\n",
      " [-5.61163093e-01]\n",
      " [-8.92930689e-01]\n",
      " [-1.31460543e+00]\n",
      " [-1.54330457e+00]\n",
      " [-9.94631730e-01]\n",
      " [-9.74633374e-01]\n",
      " [-1.13513300e+00]\n",
      " [-1.24555127e+00]\n",
      " [-1.22965514e+00]\n",
      " [-1.22623662e+00]\n",
      " [-1.43903964e+00]\n",
      " [-1.32332266e+00]\n",
      " [-1.00351989e+00]\n",
      " [-9.65745216e-01]\n",
      " [-1.40964035e+00]\n",
      " [-9.59762802e-01]\n",
      " [-4.32626651e-01]\n",
      " [-1.48518969e+00]\n",
      " [-1.32178432e+00]\n",
      " [-7.04741032e-01]\n",
      " [-1.13085985e+00]\n",
      " [-1.40314515e+00]\n",
      " [-1.27289945e+00]\n",
      " [-9.73607818e-01]\n",
      " [-6.39105403e-01]\n",
      " [-4.85100970e-01]\n",
      " [ 2.71076181e-01]\n",
      " [ 2.60478762e-01]\n",
      " [ 3.55684610e-01]\n",
      " [-5.43899555e-01]\n",
      " [-8.27408854e-02]\n",
      " [ 3.73119074e-01]\n",
      " [ 1.60486982e-01]\n",
      " [ 2.24584277e-01]\n",
      " [ 1.17920665e+00]\n",
      " [ 6.85742946e-01]\n",
      " [-1.06112199e+00]\n",
      " [-6.52608566e-01]\n",
      " [-4.10349124e-02]\n",
      " [-4.61684091e-01]\n",
      " [-8.76179930e-01]\n",
      " [-9.06775705e-01]\n",
      " [-7.62684987e-01]\n",
      " [-3.76163900e-02]\n",
      " [ 9.85718284e-01]\n",
      " [ 7.41123008e-01]\n",
      " [ 4.59436764e-01]\n",
      " [ 6.51899574e-01]\n",
      " [ 1.10314453e+00]\n",
      " [ 2.76887669e-01]\n",
      " [ 6.97252127e-02]\n",
      " [ 1.30916763e-01]\n",
      " [ 7.19472522e-02]\n",
      " [ 2.16288647e+00]\n",
      " [ 3.17425631e+00]\n",
      " [ 2.73959119e+00]\n",
      " [ 2.16715962e+00]\n",
      " [ 2.10613899e+00]\n",
      " [ 1.61917048e+00]\n",
      " [ 2.08682434e+00]\n",
      " [ 2.20766911e+00]\n",
      " [ 5.25835848e+00]\n",
      " [ 2.26561306e+00]\n",
      " [ 6.04211187e-01]\n",
      " [ 1.35474778e+00]\n",
      " [ 1.57660988e+00]\n",
      " [ 2.20732726e+00]\n",
      " [ 1.55336393e+00]\n",
      " [ 1.07289061e+00]\n",
      " [ 1.44003991e+00]\n",
      " [ 7.08305193e-01]\n",
      " [ 8.30574500e-02]\n",
      " [ 2.56718387e-01]\n",
      " [ 3.43719781e-01]\n",
      " [ 5.76692082e-01]\n",
      " [ 1.93572565e+00]\n",
      " [ 1.30346994e+00]\n",
      " [ 1.07101042e+00]\n",
      " [ 1.02109999e+00]\n",
      " [ 1.34848064e-01]\n",
      " [ 7.42319491e-01]\n",
      " [ 1.00862238e+00]\n",
      " [ 2.04984904e-02]\n",
      " [ 3.61325172e-01]\n",
      " [ 6.78450254e-02]\n",
      " [ 1.58834852e-02]\n",
      " [-6.65940803e-01]\n",
      " [-7.41148296e-01]\n",
      " [-4.28524424e-01]\n",
      " [-1.73844507e-01]\n",
      " [-3.67332874e-01]\n",
      " [-3.29558201e-01]\n",
      " [ 8.13766609e-01]\n",
      " [ 4.55505463e-01]\n",
      " [ 1.06041300e+00]\n",
      " [ 1.76240657e+00]\n",
      " [ 1.08690655e+00]\n",
      " [-4.90228753e-01]\n",
      " [-6.57907276e-01]\n",
      " [ 9.65549002e-01]\n",
      " [ 2.44611105e+00]\n",
      " [ 1.35696981e+00]\n",
      " [ 8.93418180e-01]\n",
      " [ 3.23550499e-01]\n",
      " [ 1.37953206e+00]\n",
      " [ 1.44345843e+00]\n",
      " [-3.20499117e-01]\n",
      " [ 2.28857429e-01]\n",
      " [-9.76114578e-02]\n",
      " [ 8.60771291e-01]\n",
      " [ 7.78555828e-01]]\n"
     ]
    }
   ],
   "source": [
    "print(scaled_data)"
   ]
  },
  {
   "cell_type": "code",
   "execution_count": 148,
   "id": "d50b0fd0",
   "metadata": {},
   "outputs": [
    {
     "data": {
      "text/plain": [
       "array([1.16801546e-16])"
      ]
     },
     "execution_count": 148,
     "metadata": {},
     "output_type": "execute_result"
    }
   ],
   "source": [
    "#for Standardization mean =0\n",
    "scaled_data.mean(axis = 0)\n",
    "#df([0., 0.])"
   ]
  },
  {
   "cell_type": "code",
   "execution_count": 149,
   "id": "760d79ed",
   "metadata": {},
   "outputs": [
    {
     "data": {
      "text/plain": [
       "array([1.])"
      ]
     },
     "execution_count": 149,
     "metadata": {},
     "output_type": "execute_result"
    }
   ],
   "source": [
    "#for Standardization standard deviation =1\n",
    "scaled_data.std(axis = 0)\n",
    "#array([1., 1.])"
   ]
  },
  {
   "cell_type": "code",
   "execution_count": 150,
   "id": "74300742",
   "metadata": {},
   "outputs": [],
   "source": [
    "#Creating a window for previous data\n",
    "def to_supervised(train):\n",
    "    window_size = 4\n",
    "    X = []\n",
    "    Y = []\n",
    "    for i in range(window_size, len(train)):\n",
    "        X.append(train[i-window_size:i,:])\n",
    "        Y.append(train[i,0:1])\n",
    "    \n",
    "    return X,Y"
   ]
  },
  {
   "cell_type": "code",
   "execution_count": 151,
   "id": "aac67ad3",
   "metadata": {},
   "outputs": [
    {
     "name": "stdout",
     "output_type": "stream",
     "text": [
      "Y (361, 1)\n",
      "X (361, 4, 1)\n"
     ]
    }
   ],
   "source": [
    "X, Y = to_supervised(scaled_data)\n",
    "X = np.array(X)\n",
    "Y = np.array(Y)\n",
    "print('Y' ,Y.shape)\n",
    "print('X' ,X.shape)"
   ]
  },
  {
   "cell_type": "code",
   "execution_count": 152,
   "id": "e60914a7",
   "metadata": {},
   "outputs": [
    {
     "data": {
      "text/plain": [
       "array([[[ 2.011275  ],\n",
       "        [ 1.90598451],\n",
       "        [ 0.29534769],\n",
       "        [-0.72508124]],\n",
       "\n",
       "       [[ 1.90598451],\n",
       "        [ 0.29534769],\n",
       "        [-0.72508124],\n",
       "        [-0.82644043]],\n",
       "\n",
       "       [[ 0.29534769],\n",
       "        [-0.72508124],\n",
       "        [-0.82644043],\n",
       "        [ 0.20732074]],\n",
       "\n",
       "       ...,\n",
       "\n",
       "       [[ 1.37953206],\n",
       "        [ 1.44345843],\n",
       "        [-0.32049912],\n",
       "        [ 0.22885743]],\n",
       "\n",
       "       [[ 1.44345843],\n",
       "        [-0.32049912],\n",
       "        [ 0.22885743],\n",
       "        [-0.09761146]],\n",
       "\n",
       "       [[-0.32049912],\n",
       "        [ 0.22885743],\n",
       "        [-0.09761146],\n",
       "        [ 0.86077129]]])"
      ]
     },
     "execution_count": 152,
     "metadata": {},
     "output_type": "execute_result"
    }
   ],
   "source": [
    "X"
   ]
  },
  {
   "cell_type": "code",
   "execution_count": 153,
   "id": "1f3725e3",
   "metadata": {},
   "outputs": [
    {
     "name": "stdout",
     "output_type": "stream",
     "text": [
      "X_train (297, 4, 1)\n",
      "X_test (64, 4, 1)\n",
      "Y_train (297, 1)\n",
      "Y_test (64, 1)\n"
     ]
    }
   ],
   "source": [
    "#Splitting the dataset 365*0.2=73\n",
    "#Splitting the dataset 365*0.3=110\n",
    "n_train = 64\n",
    "X_train, X_test = X[n_train:,] , X[:n_train,]\n",
    "print('X_train' ,X_train.shape)\n",
    "print('X_test' ,X_test.shape)\n",
    "\n",
    "Y_train, Y_test = Y[n_train:,] , Y[:n_train,]\n",
    "print('Y_train' ,Y_train.shape)\n",
    "print('Y_test' ,Y_test.shape)"
   ]
  },
  {
   "cell_type": "code",
   "execution_count": 154,
   "id": "7ba8d49c",
   "metadata": {},
   "outputs": [],
   "source": [
    "#Importing LSTM model\n",
    "from tensorflow import keras\n",
    "from tensorflow.keras import layers\n",
    "from keras.models import Sequential\n",
    "from keras.layers import Dense, Dropout,LSTM\n",
    "import tensorflow as tf\n",
    "model = Sequential()\n",
    "\n",
    "#units means number of neurons\n",
    "model.add(LSTM(units = 100, return_sequences = True, input_shape=(X_train.shape[1], X_train.shape[2])))\n",
    "model.add(Dropout(0.2))\n",
    "\n",
    "model.add(LSTM(units = 100, return_sequences = True))\n",
    "model.add(Dropout(0.2))\n",
    "\n",
    "model.add(LSTM(units = 100))\n",
    "model.add(Dropout(0.2))\n",
    "\n",
    "model.add(Dense(units = 1))\n",
    "\n",
    " \n",
    "#opt1 = tf.keras.optimizers.SGD(learning_rate=0.001, momentum=0.0, nesterov=False, name=\"SGD\")\n",
    "\n",
    "opt = keras.optimizers.Adam(learning_rate=0.1)\n",
    "model.compile(loss='mean_squared_error', optimizer=opt)"
   ]
  },
  {
   "cell_type": "code",
   "execution_count": 155,
   "id": "bef11765",
   "metadata": {},
   "outputs": [],
   "source": [
    "def call(c):\n",
    "    history = model.fit(X_train, Y_train, epochs=c,\n",
    "                    batch_size=8, validation_data=(X_test, Y_test),\n",
    "                    verbose=2, shuffle=False)\n",
    "    def model_loss(history):\n",
    "        plt.figure(figsize=(8,4))\n",
    "        plt.plot(history.history['loss'], label='Train Loss')\n",
    "        plt.plot(history.history['val_loss'], label='Test Loss')\n",
    "        plt.title('model loss')\n",
    "        plt.ylabel('loss')\n",
    "        plt.xlabel('epochs')\n",
    "        plt.legend(loc='upper right')\n",
    "        plt.show();\n",
    "        \n",
    "    #Taking predictions\n",
    "    Y_pred = model.predict(X_test)\n",
    "    from sklearn.metrics import mean_squared_error\n",
    "    mse = mean_squared_error(Y_test, Y_pred)\n",
    "    print('MSE')\n",
    "    print(mse)\n",
    "    rmse = np.sqrt(mse)\n",
    "    print('RMSE')\n",
    "    print(rmse)\n",
    "    mae = np.mean(np.abs(Y_test, Y_pred))    # MAE\n",
    "    print('MAE')\n",
    "    print(mae)\n",
    "\n",
    "    # plot history\n",
    "    plt.plot(history.history['loss'], label='train_loss')\n",
    "    plt.plot(history.history['val_loss'], label='Val_loss')\n",
    "    plt.legend()\n",
    "    plt.show()"
   ]
  },
  {
   "cell_type": "code",
   "execution_count": 156,
   "id": "eb7e8b13",
   "metadata": {},
   "outputs": [
    {
     "name": "stdout",
     "output_type": "stream",
     "text": [
      "Epoch 1/10\n",
      "38/38 - 4s - loss: 2.6671 - val_loss: 3.7485 - 4s/epoch - 109ms/step\n",
      "Epoch 2/10\n",
      "38/38 - 0s - loss: 2.0638 - val_loss: 3.5207 - 220ms/epoch - 6ms/step\n",
      "Epoch 3/10\n",
      "38/38 - 0s - loss: 2.3147 - val_loss: 3.0765 - 217ms/epoch - 6ms/step\n",
      "Epoch 4/10\n",
      "38/38 - 0s - loss: 2.3248 - val_loss: 2.5576 - 217ms/epoch - 6ms/step\n",
      "Epoch 5/10\n",
      "38/38 - 0s - loss: 2.3488 - val_loss: 2.6932 - 217ms/epoch - 6ms/step\n",
      "Epoch 6/10\n",
      "38/38 - 0s - loss: 2.3233 - val_loss: 2.1519 - 200ms/epoch - 5ms/step\n",
      "Epoch 7/10\n",
      "38/38 - 0s - loss: 2.1984 - val_loss: 0.9051 - 202ms/epoch - 5ms/step\n",
      "Epoch 8/10\n",
      "38/38 - 0s - loss: 2.2382 - val_loss: 0.8876 - 215ms/epoch - 6ms/step\n",
      "Epoch 9/10\n",
      "38/38 - 0s - loss: 2.0395 - val_loss: 1.0930 - 218ms/epoch - 6ms/step\n",
      "Epoch 10/10\n",
      "38/38 - 0s - loss: 2.1440 - val_loss: 0.9009 - 217ms/epoch - 6ms/step\n",
      "2/2 [==============================] - 1s 18ms/step\n",
      "MSE\n",
      "0.9008869002087031\n",
      "RMSE\n",
      "0.9491506204015794\n",
      "MAE\n",
      "0.5747457\n"
     ]
    },
    {
     "data": {
      "image/png": "[encoded data removed]",
      "text/plain": [
       "<Figure size 432x288 with 1 Axes>"
      ]
     },
     "metadata": {
      "needs_background": "light"
     },
     "output_type": "display_data"
    },
    {
     "name": "stdout",
     "output_type": "stream",
     "text": [
      "Epoch 1/20\n",
      "38/38 - 0s - loss: 2.0290 - val_loss: 1.1569 - 214ms/epoch - 6ms/step\n",
      "Epoch 2/20\n",
      "38/38 - 0s - loss: 1.8609 - val_loss: 0.9227 - 203ms/epoch - 5ms/step\n",
      "Epoch 3/20\n",
      "38/38 - 0s - loss: 1.9709 - val_loss: 1.0866 - 199ms/epoch - 5ms/step\n",
      "Epoch 4/20\n",
      "38/38 - 0s - loss: 2.2042 - val_loss: 1.5959 - 200ms/epoch - 5ms/step\n",
      "Epoch 5/20\n",
      "38/38 - 0s - loss: 2.3187 - val_loss: 1.7741 - 202ms/epoch - 5ms/step\n",
      "Epoch 6/20\n",
      "38/38 - 0s - loss: 2.2580 - val_loss: 1.4093 - 215ms/epoch - 6ms/step\n",
      "Epoch 7/20\n",
      "38/38 - 0s - loss: 2.0825 - val_loss: 0.7981 - 201ms/epoch - 5ms/step\n",
      "Epoch 8/20\n",
      "38/38 - 0s - loss: 1.9724 - val_loss: 0.7388 - 217ms/epoch - 6ms/step\n",
      "Epoch 9/20\n",
      "38/38 - 0s - loss: 1.9282 - val_loss: 1.0039 - 202ms/epoch - 5ms/step\n",
      "Epoch 10/20\n",
      "38/38 - 0s - loss: 1.9409 - val_loss: 0.7956 - 214ms/epoch - 6ms/step\n",
      "Epoch 11/20\n",
      "38/38 - 0s - loss: 1.9203 - val_loss: 0.6761 - 200ms/epoch - 5ms/step\n",
      "Epoch 12/20\n",
      "38/38 - 0s - loss: 1.9038 - val_loss: 0.7610 - 201ms/epoch - 5ms/step\n",
      "Epoch 13/20\n",
      "38/38 - 0s - loss: 1.9114 - val_loss: 0.6103 - 200ms/epoch - 5ms/step\n",
      "Epoch 14/20\n",
      "38/38 - 0s - loss: 1.8338 - val_loss: 0.5914 - 200ms/epoch - 5ms/step\n",
      "Epoch 15/20\n",
      "38/38 - 0s - loss: 1.9881 - val_loss: 0.7193 - 200ms/epoch - 5ms/step\n",
      "Epoch 16/20\n",
      "38/38 - 0s - loss: 2.0705 - val_loss: 0.6512 - 200ms/epoch - 5ms/step\n",
      "Epoch 17/20\n",
      "38/38 - 0s - loss: 1.8002 - val_loss: 0.5276 - 201ms/epoch - 5ms/step\n",
      "Epoch 18/20\n",
      "38/38 - 0s - loss: 1.8471 - val_loss: 0.6404 - 200ms/epoch - 5ms/step\n",
      "Epoch 19/20\n",
      "38/38 - 0s - loss: 1.6416 - val_loss: 0.6529 - 216ms/epoch - 6ms/step\n",
      "Epoch 20/20\n",
      "38/38 - 0s - loss: 1.8313 - val_loss: 0.6402 - 200ms/epoch - 5ms/step\n",
      "2/2 [==============================] - 0s 5ms/step\n",
      "MSE\n",
      "0.6402185057756434\n",
      "RMSE\n",
      "0.8001365544553276\n",
      "MAE\n",
      "0.5747457\n"
     ]
    },
    {
     "data": {
      "image/png": "[encoded data removed]",
      "text/plain": [
       "<Figure size 432x288 with 1 Axes>"
      ]
     },
     "metadata": {
      "needs_background": "light"
     },
     "output_type": "display_data"
    },
    {
     "name": "stdout",
     "output_type": "stream",
     "text": [
      "Epoch 1/30\n",
      "38/38 - 0s - loss: 1.8209 - val_loss: 0.4442 - 200ms/epoch - 5ms/step\n",
      "Epoch 2/30\n",
      "38/38 - 0s - loss: 1.8981 - val_loss: 0.6961 - 201ms/epoch - 5ms/step\n",
      "Epoch 3/30\n",
      "38/38 - 0s - loss: 1.8403 - val_loss: 0.6242 - 200ms/epoch - 5ms/step\n",
      "Epoch 4/30\n",
      "38/38 - 0s - loss: 1.7226 - val_loss: 0.5680 - 200ms/epoch - 5ms/step\n",
      "Epoch 5/30\n",
      "38/38 - 0s - loss: 1.9405 - val_loss: 0.5879 - 203ms/epoch - 5ms/step\n",
      "Epoch 6/30\n",
      "38/38 - 0s - loss: 1.8487 - val_loss: 0.5455 - 198ms/epoch - 5ms/step\n",
      "Epoch 7/30\n",
      "38/38 - 0s - loss: 2.0685 - val_loss: 0.6743 - 199ms/epoch - 5ms/step\n",
      "Epoch 8/30\n",
      "38/38 - 0s - loss: 1.9542 - val_loss: 0.7579 - 201ms/epoch - 5ms/step\n",
      "Epoch 9/30\n",
      "38/38 - 0s - loss: 1.8551 - val_loss: 0.7751 - 199ms/epoch - 5ms/step\n",
      "Epoch 10/30\n",
      "38/38 - 0s - loss: 1.9188 - val_loss: 0.6610 - 200ms/epoch - 5ms/step\n",
      "Epoch 11/30\n",
      "38/38 - 0s - loss: 1.8408 - val_loss: 0.5513 - 200ms/epoch - 5ms/step\n",
      "Epoch 12/30\n",
      "38/38 - 0s - loss: 1.7453 - val_loss: 0.8934 - 200ms/epoch - 5ms/step\n",
      "Epoch 13/30\n",
      "38/38 - 0s - loss: 1.8163 - val_loss: 2.6067 - 200ms/epoch - 5ms/step\n",
      "Epoch 14/30\n",
      "38/38 - 0s - loss: 2.1139 - val_loss: 2.2302 - 201ms/epoch - 5ms/step\n",
      "Epoch 15/30\n",
      "38/38 - 0s - loss: 2.4525 - val_loss: 2.0900 - 199ms/epoch - 5ms/step\n",
      "Epoch 16/30\n",
      "38/38 - 0s - loss: 2.7770 - val_loss: 1.7140 - 198ms/epoch - 5ms/step\n",
      "Epoch 17/30\n",
      "38/38 - 0s - loss: 2.3098 - val_loss: 1.4187 - 185ms/epoch - 5ms/step\n",
      "Epoch 18/30\n",
      "38/38 - 0s - loss: 2.1462 - val_loss: 1.2975 - 185ms/epoch - 5ms/step\n",
      "Epoch 19/30\n",
      "38/38 - 0s - loss: 1.9850 - val_loss: 0.8962 - 200ms/epoch - 5ms/step\n",
      "Epoch 20/30\n",
      "38/38 - 0s - loss: 1.9601 - val_loss: 0.9573 - 200ms/epoch - 5ms/step\n",
      "Epoch 21/30\n",
      "38/38 - 0s - loss: 2.2387 - val_loss: 0.8730 - 200ms/epoch - 5ms/step\n",
      "Epoch 22/30\n",
      "38/38 - 0s - loss: 2.2179 - val_loss: 1.0230 - 200ms/epoch - 5ms/step\n",
      "Epoch 23/30\n",
      "38/38 - 0s - loss: 2.2708 - val_loss: 0.9663 - 184ms/epoch - 5ms/step\n",
      "Epoch 24/30\n",
      "38/38 - 0s - loss: 1.8383 - val_loss: 1.8527 - 221ms/epoch - 6ms/step\n",
      "Epoch 25/30\n",
      "38/38 - 0s - loss: 1.9086 - val_loss: 1.8070 - 224ms/epoch - 6ms/step\n",
      "Epoch 26/30\n",
      "38/38 - 0s - loss: 1.9012 - val_loss: 2.0259 - 218ms/epoch - 6ms/step\n",
      "Epoch 27/30\n",
      "38/38 - 0s - loss: 2.3794 - val_loss: 1.6875 - 229ms/epoch - 6ms/step\n",
      "Epoch 28/30\n",
      "38/38 - 0s - loss: 2.2793 - val_loss: 1.2985 - 230ms/epoch - 6ms/step\n",
      "Epoch 29/30\n",
      "38/38 - 0s - loss: 1.9615 - val_loss: 1.2527 - 212ms/epoch - 6ms/step\n",
      "Epoch 30/30\n",
      "38/38 - 0s - loss: 2.0743 - val_loss: 1.1609 - 226ms/epoch - 6ms/step\n",
      "2/2 [==============================] - 0s 3ms/step\n",
      "MSE\n",
      "1.1609222057102069\n",
      "RMSE\n",
      "1.0774609996237483\n",
      "MAE\n",
      "0.5747457\n"
     ]
    },
    {
     "data": {
      "image/png": "[encoded data removed]",
      "text/plain": [
       "<Figure size 432x288 with 1 Axes>"
      ]
     },
     "metadata": {
      "needs_background": "light"
     },
     "output_type": "display_data"
    },
    {
     "name": "stdout",
     "output_type": "stream",
     "text": [
      "Epoch 1/40\n",
      "38/38 - 0s - loss: 2.0126 - val_loss: 0.9323 - 248ms/epoch - 7ms/step\n",
      "Epoch 2/40\n",
      "38/38 - 0s - loss: 1.7894 - val_loss: 0.7951 - 193ms/epoch - 5ms/step\n",
      "Epoch 3/40\n",
      "38/38 - 0s - loss: 2.0045 - val_loss: 1.2070 - 202ms/epoch - 5ms/step\n",
      "Epoch 4/40\n",
      "38/38 - 0s - loss: 1.9082 - val_loss: 0.8642 - 215ms/epoch - 6ms/step\n",
      "Epoch 5/40\n",
      "38/38 - 0s - loss: 2.1141 - val_loss: 1.5651 - 201ms/epoch - 5ms/step\n",
      "Epoch 6/40\n",
      "38/38 - 0s - loss: 2.3268 - val_loss: 1.0283 - 200ms/epoch - 5ms/step\n",
      "Epoch 7/40\n",
      "38/38 - 0s - loss: 2.2678 - val_loss: 0.7540 - 199ms/epoch - 5ms/step\n",
      "Epoch 8/40\n",
      "38/38 - 0s - loss: 1.8994 - val_loss: 0.9639 - 215ms/epoch - 6ms/step\n",
      "Epoch 9/40\n",
      "38/38 - 0s - loss: 2.0781 - val_loss: 1.1188 - 219ms/epoch - 6ms/step\n",
      "Epoch 10/40\n",
      "38/38 - 0s - loss: 2.0223 - val_loss: 0.6671 - 201ms/epoch - 5ms/step\n",
      "Epoch 11/40\n",
      "38/38 - 0s - loss: 1.8759 - val_loss: 0.6889 - 231ms/epoch - 6ms/step\n",
      "Epoch 12/40\n",
      "38/38 - 0s - loss: 1.8369 - val_loss: 0.8338 - 219ms/epoch - 6ms/step\n",
      "Epoch 13/40\n",
      "38/38 - 0s - loss: 1.8892 - val_loss: 0.7204 - 217ms/epoch - 6ms/step\n",
      "Epoch 14/40\n",
      "38/38 - 0s - loss: 2.0065 - val_loss: 0.6143 - 195ms/epoch - 5ms/step\n",
      "Epoch 15/40\n",
      "38/38 - 0s - loss: 1.9191 - val_loss: 0.7489 - 224ms/epoch - 6ms/step\n",
      "Epoch 16/40\n",
      "38/38 - 0s - loss: 2.0758 - val_loss: 1.0195 - 195ms/epoch - 5ms/step\n",
      "Epoch 17/40\n",
      "38/38 - 0s - loss: 2.0555 - val_loss: 1.1113 - 217ms/epoch - 6ms/step\n",
      "Epoch 18/40\n",
      "38/38 - 0s - loss: 2.1216 - val_loss: 1.0491 - 209ms/epoch - 6ms/step\n",
      "Epoch 19/40\n",
      "38/38 - 0s - loss: 2.0933 - val_loss: 0.8120 - 203ms/epoch - 5ms/step\n",
      "Epoch 20/40\n",
      "38/38 - 0s - loss: 2.0900 - val_loss: 0.5344 - 229ms/epoch - 6ms/step\n",
      "Epoch 21/40\n",
      "38/38 - 0s - loss: 1.8934 - val_loss: 0.6505 - 201ms/epoch - 5ms/step\n",
      "Epoch 22/40\n",
      "38/38 - 0s - loss: 1.8862 - val_loss: 0.7029 - 218ms/epoch - 6ms/step\n",
      "Epoch 23/40\n",
      "38/38 - 0s - loss: 1.8255 - val_loss: 0.7040 - 199ms/epoch - 5ms/step\n",
      "Epoch 24/40\n",
      "38/38 - 0s - loss: 1.8767 - val_loss: 0.8115 - 202ms/epoch - 5ms/step\n",
      "Epoch 25/40\n",
      "38/38 - 0s - loss: 2.0599 - val_loss: 0.5553 - 212ms/epoch - 6ms/step\n",
      "Epoch 26/40\n",
      "38/38 - 0s - loss: 1.9900 - val_loss: 0.5955 - 225ms/epoch - 6ms/step\n",
      "Epoch 27/40\n",
      "38/38 - 0s - loss: 1.8819 - val_loss: 0.6727 - 207ms/epoch - 5ms/step\n",
      "Epoch 28/40\n",
      "38/38 - 0s - loss: 1.8539 - val_loss: 1.0110 - 224ms/epoch - 6ms/step\n",
      "Epoch 29/40\n",
      "38/38 - 0s - loss: 2.0668 - val_loss: 0.8692 - 230ms/epoch - 6ms/step\n",
      "Epoch 30/40\n",
      "38/38 - 0s - loss: 1.9708 - val_loss: 0.8829 - 204ms/epoch - 5ms/step\n",
      "Epoch 31/40\n",
      "38/38 - 0s - loss: 2.0819 - val_loss: 1.1550 - 226ms/epoch - 6ms/step\n",
      "Epoch 32/40\n",
      "38/38 - 0s - loss: 2.2465 - val_loss: 0.8703 - 201ms/epoch - 5ms/step\n",
      "Epoch 33/40\n",
      "38/38 - 0s - loss: 1.9307 - val_loss: 0.7607 - 232ms/epoch - 6ms/step\n",
      "Epoch 34/40\n",
      "38/38 - 0s - loss: 1.9648 - val_loss: 0.6469 - 211ms/epoch - 6ms/step\n",
      "Epoch 35/40\n",
      "38/38 - 0s - loss: 2.0350 - val_loss: 1.2895 - 206ms/epoch - 5ms/step\n",
      "Epoch 36/40\n",
      "38/38 - 0s - loss: 2.0974 - val_loss: 0.8310 - 211ms/epoch - 6ms/step\n",
      "Epoch 37/40\n",
      "38/38 - 0s - loss: 1.9526 - val_loss: 0.9708 - 202ms/epoch - 5ms/step\n",
      "Epoch 38/40\n",
      "38/38 - 0s - loss: 2.0496 - val_loss: 0.8103 - 200ms/epoch - 5ms/step\n",
      "Epoch 39/40\n",
      "38/38 - 0s - loss: 1.9604 - val_loss: 0.8482 - 199ms/epoch - 5ms/step\n",
      "Epoch 40/40\n",
      "38/38 - 0s - loss: 1.7634 - val_loss: 0.7152 - 224ms/epoch - 6ms/step\n",
      "2/2 [==============================] - 0s 4ms/step\n",
      "MSE\n",
      "0.7151716732315092\n",
      "RMSE\n",
      "0.8456782326816206\n",
      "MAE\n",
      "0.5747457\n"
     ]
    },
    {
     "data": {
      "image/png": "[encoded data removed]",
      "text/plain": [
       "<Figure size 432x288 with 1 Axes>"
      ]
     },
     "metadata": {
      "needs_background": "light"
     },
     "output_type": "display_data"
    },
    {
     "name": "stdout",
     "output_type": "stream",
     "text": [
      "Epoch 1/50\n",
      "38/38 - 0s - loss: 1.9993 - val_loss: 1.1158 - 203ms/epoch - 5ms/step\n",
      "Epoch 2/50\n",
      "38/38 - 0s - loss: 1.9939 - val_loss: 0.7162 - 203ms/epoch - 5ms/step\n",
      "Epoch 3/50\n",
      "38/38 - 0s - loss: 1.8849 - val_loss: 0.8424 - 200ms/epoch - 5ms/step\n",
      "Epoch 4/50\n",
      "38/38 - 0s - loss: 1.8211 - val_loss: 0.6029 - 200ms/epoch - 5ms/step\n",
      "Epoch 5/50\n",
      "38/38 - 0s - loss: 2.0046 - val_loss: 0.5169 - 243ms/epoch - 6ms/step\n",
      "Epoch 6/50\n",
      "38/38 - 0s - loss: 1.9128 - val_loss: 0.5049 - 242ms/epoch - 6ms/step\n",
      "Epoch 7/50\n",
      "38/38 - 0s - loss: 2.0020 - val_loss: 0.7132 - 198ms/epoch - 5ms/step\n",
      "Epoch 8/50\n",
      "38/38 - 0s - loss: 2.0570 - val_loss: 0.5692 - 199ms/epoch - 5ms/step\n",
      "Epoch 9/50\n",
      "38/38 - 0s - loss: 1.9096 - val_loss: 0.4026 - 200ms/epoch - 5ms/step\n",
      "Epoch 10/50\n",
      "38/38 - 0s - loss: 1.6658 - val_loss: 0.5742 - 200ms/epoch - 5ms/step\n",
      "Epoch 11/50\n",
      "38/38 - 0s - loss: 1.8975 - val_loss: 0.8085 - 199ms/epoch - 5ms/step\n",
      "Epoch 12/50\n",
      "38/38 - 0s - loss: 1.9987 - val_loss: 0.4755 - 199ms/epoch - 5ms/step\n",
      "Epoch 13/50\n",
      "38/38 - 0s - loss: 1.8322 - val_loss: 0.4854 - 202ms/epoch - 5ms/step\n",
      "Epoch 14/50\n",
      "38/38 - 0s - loss: 1.8590 - val_loss: 0.6809 - 200ms/epoch - 5ms/step\n",
      "Epoch 15/50\n",
      "38/38 - 0s - loss: 2.0736 - val_loss: 0.6292 - 199ms/epoch - 5ms/step\n",
      "Epoch 16/50\n",
      "38/38 - 0s - loss: 1.8381 - val_loss: 0.4375 - 199ms/epoch - 5ms/step\n",
      "Epoch 17/50\n",
      "38/38 - 0s - loss: 1.7820 - val_loss: 0.5927 - 196ms/epoch - 5ms/step\n",
      "Epoch 18/50\n",
      "38/38 - 0s - loss: 1.6578 - val_loss: 0.4811 - 188ms/epoch - 5ms/step\n",
      "Epoch 19/50\n",
      "38/38 - 0s - loss: 1.8994 - val_loss: 0.5702 - 209ms/epoch - 5ms/step\n",
      "Epoch 20/50\n",
      "38/38 - 0s - loss: 1.9025 - val_loss: 1.0082 - 207ms/epoch - 5ms/step\n",
      "Epoch 21/50\n",
      "38/38 - 0s - loss: 1.8471 - val_loss: 0.7927 - 206ms/epoch - 5ms/step\n",
      "Epoch 22/50\n",
      "38/38 - 0s - loss: 1.8734 - val_loss: 0.6027 - 212ms/epoch - 6ms/step\n",
      "Epoch 23/50\n",
      "38/38 - 0s - loss: 1.8741 - val_loss: 0.8143 - 232ms/epoch - 6ms/step\n",
      "Epoch 24/50\n",
      "38/38 - 0s - loss: 1.9838 - val_loss: 0.5569 - 228ms/epoch - 6ms/step\n",
      "Epoch 25/50\n",
      "38/38 - 0s - loss: 1.8544 - val_loss: 0.5247 - 206ms/epoch - 5ms/step\n",
      "Epoch 26/50\n",
      "38/38 - 0s - loss: 1.6818 - val_loss: 1.2212 - 222ms/epoch - 6ms/step\n",
      "Epoch 27/50\n",
      "38/38 - 0s - loss: 1.4561 - val_loss: 2.2127 - 213ms/epoch - 6ms/step\n",
      "Epoch 28/50\n",
      "38/38 - 0s - loss: 1.9396 - val_loss: 2.6570 - 205ms/epoch - 5ms/step\n",
      "Epoch 29/50\n",
      "38/38 - 0s - loss: 2.2580 - val_loss: 2.2996 - 226ms/epoch - 6ms/step\n",
      "Epoch 30/50\n",
      "38/38 - 0s - loss: 2.6901 - val_loss: 1.2796 - 194ms/epoch - 5ms/step\n",
      "Epoch 31/50\n",
      "38/38 - 0s - loss: 2.0978 - val_loss: 1.0812 - 200ms/epoch - 5ms/step\n",
      "Epoch 32/50\n",
      "38/38 - 0s - loss: 2.2300 - val_loss: 1.9038 - 200ms/epoch - 5ms/step\n",
      "Epoch 33/50\n",
      "38/38 - 0s - loss: 2.3176 - val_loss: 1.3037 - 200ms/epoch - 5ms/step\n",
      "Epoch 34/50\n",
      "38/38 - 0s - loss: 2.0415 - val_loss: 0.8486 - 199ms/epoch - 5ms/step\n",
      "Epoch 35/50\n",
      "38/38 - 0s - loss: 1.8174 - val_loss: 1.2382 - 200ms/epoch - 5ms/step\n",
      "Epoch 36/50\n",
      "38/38 - 0s - loss: 2.1518 - val_loss: 1.5964 - 215ms/epoch - 6ms/step\n",
      "Epoch 37/50\n",
      "38/38 - 0s - loss: 1.6431 - val_loss: 2.5472 - 200ms/epoch - 5ms/step\n",
      "Epoch 38/50\n",
      "38/38 - 0s - loss: 2.0406 - val_loss: 2.7415 - 202ms/epoch - 5ms/step\n",
      "Epoch 39/50\n",
      "38/38 - 0s - loss: 2.0567 - val_loss: 2.7252 - 200ms/epoch - 5ms/step\n",
      "Epoch 40/50\n",
      "38/38 - 0s - loss: 2.0125 - val_loss: 2.0705 - 200ms/epoch - 5ms/step\n",
      "Epoch 41/50\n",
      "38/38 - 0s - loss: 2.1179 - val_loss: 1.5206 - 200ms/epoch - 5ms/step\n",
      "Epoch 42/50\n",
      "38/38 - 0s - loss: 2.1989 - val_loss: 1.2047 - 200ms/epoch - 5ms/step\n",
      "Epoch 43/50\n",
      "38/38 - 0s - loss: 2.3290 - val_loss: 0.9073 - 208ms/epoch - 5ms/step\n",
      "Epoch 44/50\n",
      "38/38 - 0s - loss: 1.8681 - val_loss: 0.7363 - 216ms/epoch - 6ms/step\n",
      "Epoch 45/50\n",
      "38/38 - 0s - loss: 2.0861 - val_loss: 0.9387 - 193ms/epoch - 5ms/step\n",
      "Epoch 46/50\n",
      "38/38 - 0s - loss: 2.4010 - val_loss: 1.6975 - 230ms/epoch - 6ms/step\n",
      "Epoch 47/50\n",
      "38/38 - 0s - loss: 2.3781 - val_loss: 0.9314 - 201ms/epoch - 5ms/step\n",
      "Epoch 48/50\n",
      "38/38 - 0s - loss: 1.9860 - val_loss: 0.9267 - 212ms/epoch - 6ms/step\n",
      "Epoch 49/50\n",
      "38/38 - 0s - loss: 1.8510 - val_loss: 1.0648 - 228ms/epoch - 6ms/step\n",
      "Epoch 50/50\n",
      "38/38 - 0s - loss: 2.0833 - val_loss: 1.0419 - 193ms/epoch - 5ms/step\n",
      "2/2 [==============================] - 0s 4ms/step\n",
      "MSE\n",
      "1.0419167130794207\n",
      "RMSE\n",
      "1.020743216033994\n",
      "MAE\n",
      "0.5747457\n"
     ]
    },
    {
     "data": {
      "image/png": "[encoded data removed]",
      "text/plain": [
       "<Figure size 432x288 with 1 Axes>"
      ]
     },
     "metadata": {
      "needs_background": "light"
     },
     "output_type": "display_data"
    }
   ],
   "source": [
    "l=[10,20,30,40,50]\n",
    "for i in l:\n",
    "    call(i)"
   ]
  },
  {
   "cell_type": "code",
   "execution_count": 157,
   "id": "c3ea277b",
   "metadata": {},
   "outputs": [
    {
     "name": "stdout",
     "output_type": "stream",
     "text": [
      "2/2 [==============================] - 0s 4ms/step\n",
      "1.0419167130794207\n",
      "1.020743216033994\n"
     ]
    }
   ],
   "source": [
    "#Taking predictions\n",
    "Y_pred = model.predict(X_test)\n",
    "\n",
    "from sklearn.metrics import mean_squared_error\n",
    "mse = mean_squared_error(Y_test, Y_pred)\n",
    "\n",
    "print(mse)\n",
    "rmse = np.sqrt(mse)\n",
    "print(rmse)"
   ]
  },
  {
   "cell_type": "code",
   "execution_count": 158,
   "id": "ddd0a935",
   "metadata": {},
   "outputs": [
    {
     "name": "stdout",
     "output_type": "stream",
     "text": [
      "y_predicted (64, 1)\n",
      "X_train (297, 4, 1)\n",
      "X_test (64, 4, 1)\n",
      "scaled Values shape (365, 1)\n"
     ]
    }
   ],
   "source": [
    "Y_predicted = scaler.inverse_transform(Y_pred)\n",
    "print('y_predicted',Y_pred.shape)\n",
    "print('X_train' ,X_train.shape)\n",
    "print('X_test' ,X_test.shape)\n",
    "print('scaled Values shape', scaled_data.shape)"
   ]
  },
  {
   "cell_type": "code",
   "execution_count": 159,
   "id": "d7fcfa28",
   "metadata": {},
   "outputs": [
    {
     "name": "stdout",
     "output_type": "stream",
     "text": [
      "dummy (300, 1)\n",
      "Y_pred (64, 1)\n",
      "concat y_pred (64, 1)\n",
      "concat Y_test (64, 1)\n"
     ]
    }
   ],
   "source": [
    "#Scaling back to the original scale\n",
    "d = scaled_data[:300,:]\n",
    "print('dummy',d.shape)\n",
    "print('Y_pred',Y_pred.shape)\n",
    "Y_predicted = np.concatenate((Y_pred,d[:64,1:]), axis =1)\n",
    "print('concat y_pred',Y_pred.shape)\n",
    "Y_tested = np.concatenate((Y_test, d[:64,1:]), axis = 1)\n",
    "print('concat Y_test', Y_test.shape)"
   ]
  },
  {
   "cell_type": "code",
   "execution_count": 160,
   "id": "fbc5a964",
   "metadata": {},
   "outputs": [
    {
     "name": "stdout",
     "output_type": "stream",
     "text": [
      "Y_tested (64, 1)\n",
      "Y_predicted (64, 1)\n"
     ]
    }
   ],
   "source": [
    "#Take inverse transform\n",
    "Y_predicted = scaler.inverse_transform(Y_predicted)\n",
    "Y_tested = scaler.inverse_transform(Y_tested)\n",
    "Y_predicted = Y_predicted[:,0:1]\n",
    "Y_tested = Y_tested[:,0:1]\n",
    "print('Y_tested', Y_tested.shape)\n",
    "print('Y_predicted', Y_predicted.shape)"
   ]
  },
  {
   "cell_type": "code",
   "execution_count": 161,
   "id": "61bb89b6",
   "metadata": {},
   "outputs": [
    {
     "name": "stdout",
     "output_type": "stream",
     "text": [
      "3566.2857721441114\n",
      "59.718387219884896\n"
     ]
    }
   ],
   "source": [
    "#Calculate error\n",
    "from sklearn.metrics import mean_squared_error\n",
    "mse = mean_squared_error(Y_tested, Y_predicted)\n",
    "print(mse)\n",
    "rmse = np.sqrt(mse)\n",
    "print(rmse)"
   ]
  },
  {
   "cell_type": "code",
   "execution_count": 162,
   "id": "dd2c3f53",
   "metadata": {},
   "outputs": [
    {
     "data": {
      "text/plain": [
       "-1.8992125670559177"
      ]
     },
     "execution_count": 162,
     "metadata": {},
     "output_type": "execute_result"
    }
   ],
   "source": [
    "from sklearn.metrics import r2_score\n",
    "r2 = r2_score(Y_tested, Y_predicted)\n",
    "r2"
   ]
  },
  {
   "cell_type": "code",
   "execution_count": 163,
   "id": "a6f1f26f",
   "metadata": {},
   "outputs": [
    {
     "data": {
      "image/png": "[encoded data removed]",
      "text/plain": [
       "<Figure size 432x288 with 1 Axes>"
      ]
     },
     "metadata": {
      "needs_background": "light"
     },
     "output_type": "display_data"
    }
   ],
   "source": [
    "#Plot the graph between actual vs predicted values => 100 days\n",
    "plt.plot(Y_predicted[:100,:], color= 'green')\n",
    "plt.plot(Y_tested[:100,:] , color = 'red')\n",
    "plt.title(\"Air Pollution Prediction (Univariate)\")\n",
    "plt.xlabel(\"Date\")\n",
    "plt.ylabel(\"Pollution level\")\n",
    "plt.show()"
   ]
  },
  {
   "cell_type": "code",
   "execution_count": 164,
   "id": "f91a2f49",
   "metadata": {},
   "outputs": [
    {
     "name": "stdout",
     "output_type": "stream",
     "text": [
      "MAPE 32.029492053007594\n"
     ]
    }
   ],
   "source": [
    "def mean_absolute_percentage_error(y_true, y_pred): \n",
    "    y_true, y_pred = np.array(y_true), np.array(y_pred)\n",
    "    return np.mean(np.abs((y_true - y_pred) / y_true)) * 100\n",
    "\n",
    "mape = mean_absolute_percentage_error(Y_tested, Y_predicted)\n",
    "print('MAPE', mape)"
   ]
  },
  {
   "cell_type": "code",
   "execution_count": 165,
   "id": "04093cb4",
   "metadata": {},
   "outputs": [
    {
     "data": {
      "text/plain": [
       "-1.8992125670559177"
      ]
     },
     "execution_count": 165,
     "metadata": {},
     "output_type": "execute_result"
    }
   ],
   "source": [
    "from sklearn.metrics import r2_score\n",
    "r2 = r2_score(Y_tested, Y_predicted)\n",
    "r2"
   ]
  },
  {
   "cell_type": "code",
   "execution_count": 166,
   "id": "2e958ee6",
   "metadata": {},
   "outputs": [
    {
     "name": "stdout",
     "output_type": "stream",
     "text": [
      "RMSE 59.718387219884896\n",
      "Mean of Test data  137.85453124999998\n",
      "Mean of pred data  89.52029852519647\n"
     ]
    }
   ],
   "source": [
    "from sklearn.metrics import mean_squared_error\n",
    "mse = mean_squared_error(Y_tested, Y_predicted)\n",
    "#print('Mean squared error', mse)\n",
    "print('RMSE' , np.sqrt(mse))\n",
    "print(\"Mean of Test data \", np.mean(Y_tested))\n",
    "print(\"Mean of pred data \", np.mean(Y_predicted))"
   ]
  },
  {
   "cell_type": "code",
   "execution_count": 167,
   "id": "8387b1cf",
   "metadata": {},
   "outputs": [
    {
     "data": {
      "text/plain": [
       "array([<AxesSubplot:xlabel='Date'>], dtype=object)"
      ]
     },
     "execution_count": 167,
     "metadata": {},
     "output_type": "execute_result"
    },
    {
     "data": {
      "image/png": "[encoded data removed]",
      "text/plain": [
       "<Figure size 432x288 with 1 Axes>"
      ]
     },
     "metadata": {
      "needs_background": "light"
     },
     "output_type": "display_data"
    }
   ],
   "source": [
    "# A simple plot to visualize the correlation between the columns\n",
    "df.plot(subplots=True)\n",
    "#df.plot(subplots=True,figsize=(15,13));"
   ]
  },
  {
   "cell_type": "code",
   "execution_count": 168,
   "id": "6ffc8367",
   "metadata": {},
   "outputs": [
    {
     "data": {
      "image/png": "[encoded data removed]",
      "text/plain": [
       "<Figure size 432x288 with 1 Axes>"
      ]
     },
     "metadata": {
      "needs_background": "light"
     },
     "output_type": "display_data"
    }
   ],
   "source": [
    "# plot history\n",
    "plt.plot(history.history['loss'], label='train_loss')\n",
    "plt.plot(history.history['val_loss'], label='Val_loss')\n",
    "plt.legend()\n",
    "plt.show()"
   ]
  },
  {
   "cell_type": "code",
   "execution_count": null,
   "id": "60002a3c",
   "metadata": {},
   "outputs": [],
   "source": []
  },
  {
   "cell_type": "code",
   "execution_count": null,
   "id": "ab79622a",
   "metadata": {},
   "outputs": [],
   "source": []
  },
  {
   "cell_type": "code",
   "execution_count": null,
   "id": "3d0d1ca0",
   "metadata": {},
   "outputs": [],
   "source": []
  },
  {
   "cell_type": "code",
   "execution_count": null,
   "id": "5cf17449",
   "metadata": {},
   "outputs": [],
   "source": []
  }
 ],
 "metadata": {
  "kernelspec": {
   "display_name": "Python 3 (ipykernel)",
   "language": "python",
   "name": "python3"
  },
  "language_info": {
   "codemirror_mode": {
    "name": "ipython",
    "version": 3
   },
   "file_extension": ".py",
   "mimetype": "text/x-python",
   "name": "python",
   "nbconvert_exporter": "python",
   "pygments_lexer": "ipython3",
   "version": "3.9.12"
  }
 },
 "nbformat": 4,
 "nbformat_minor": 5
}
